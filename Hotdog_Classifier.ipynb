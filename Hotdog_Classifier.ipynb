{
 "cells": [
  {
   "cell_type": "code",
   "execution_count": 1,
   "metadata": {},
   "outputs": [],
   "source": [
    "from fastai.vision.all import *\n",
    "from fastai.vision.widgets import *"
   ]
  },
  {
   "cell_type": "markdown",
   "metadata": {},
   "source": [
    "# The Amazing Hotdog Classifier!\n",
    "You need to know whether you're being chased by a dangerous grizzly, or a sweet teddy bear, and you need an answer fast? Then you've come to the right place. Take a pic of the potentially vicious killer, and click 'upload' to classify it. (Important: this only handles grizzly bears, black bears, and teddy bears. It will not give a sensible answer for polar bears, a bear market, a bear of a man, or hot dogs."
   ]
  },
  {
   "cell_type": "code",
   "execution_count": 3,
   "metadata": {},
   "outputs": [],
   "source": [
    "path = Path()\n",
    "learn_inf = load_learner(path/'export.pkl', cpu=True)\n",
    "btn_upload = widgets.FileUpload()\n",
    "out_pl = widgets.Output()\n",
    "lbl_pred = widgets.Label()"
   ]
  },
  {
   "cell_type": "code",
   "execution_count": 4,
   "metadata": {},
   "outputs": [],
   "source": [
    "def on_data_change(change):\n",
    "    lbl_pred.value = ''\n",
    "    img = PILImage.create(btn_upload.data[-1])\n",
    "    out_pl.clear_output()\n",
    "    with out_pl: display(img.to_thumb(128,128))\n",
    "    pred,pred_idx,probs = learn_inf.predict(img)\n",
    "    lbl_pred.value = f'Prediction: {pred}; Probability: {probs[pred_idx]:.04f}'"
   ]
  },
  {
   "cell_type": "code",
   "execution_count": 5,
   "metadata": {},
   "outputs": [],
   "source": [
    "btn_upload.observe(on_data_change, names=['data'])"
   ]
  },
  {
   "cell_type": "code",
   "execution_count": 6,
   "metadata": {},
   "outputs": [
    {
     "data": {
      "application/vnd.jupyter.widget-view+json": {
       "model_id": "4ddff6b85ddf441c8c4de6518c1818f0",
       "version_major": 2,
       "version_minor": 0
      },
      "text/plain": [
       "VBox(children=(Label(value='Select your food!'), FileUpload(value={}, description='Upload'), Output(), Label(v…"
      ]
     },
     "metadata": {},
     "output_type": "display_data"
    }
   ],
   "source": [
    "display(VBox([widgets.Label('Select your food!'), btn_upload, out_pl, lbl_pred]))"
   ]
  },
  {
   "cell_type": "code",
   "execution_count": 16,
   "metadata": {},
   "outputs": [
    {
     "name": "stdout",
     "output_type": "stream",
     "text": [
      "Requirement already satisfied: voila in /Users/simon/.pyenv/versions/3.6.8/lib/python3.6/site-packages (0.2.6)\n",
      "Requirement already satisfied: nbclient<0.6,>=0.4.0 in /Users/simon/.pyenv/versions/3.6.8/lib/python3.6/site-packages (from voila) (0.5.2)\n",
      "Requirement already satisfied: jupyter-server<2.0.0,>=0.3.0 in /Users/simon/.pyenv/versions/3.6.8/lib/python3.6/site-packages (from voila) (1.3.0)\n",
      "Requirement already satisfied: jupyter-client<7,>=6.1.3 in /Users/simon/.pyenv/versions/3.6.8/lib/python3.6/site-packages (from voila) (6.1.7)\n",
      "Requirement already satisfied: nbconvert<7,>=6.0.0 in /Users/simon/.pyenv/versions/3.6.8/lib/python3.6/site-packages (from voila) (6.0.7)\n",
      "Requirement already satisfied: traitlets>=4.2 in /Users/simon/.pyenv/versions/3.6.8/lib/python3.6/site-packages (from nbclient<0.6,>=0.4.0->voila) (4.3.3)\n",
      "Requirement already satisfied: nbformat>=5.0 in /Users/simon/.pyenv/versions/3.6.8/lib/python3.6/site-packages (from nbclient<0.6,>=0.4.0->voila) (5.0.8)\n",
      "Requirement already satisfied: async-generator in /Users/simon/.pyenv/versions/3.6.8/lib/python3.6/site-packages (from nbclient<0.6,>=0.4.0->voila) (1.10)\n",
      "Requirement already satisfied: nest-asyncio in /Users/simon/.pyenv/versions/3.6.8/lib/python3.6/site-packages (from nbclient<0.6,>=0.4.0->voila) (1.5.1)\n",
      "Requirement already satisfied: pyzmq>=17 in /Users/simon/.pyenv/versions/3.6.8/lib/python3.6/site-packages (from jupyter-server<2.0.0,>=0.3.0->voila) (20.0.0)\n",
      "Requirement already satisfied: jupyter-core>=4.4.0 in /Users/simon/.pyenv/versions/3.6.8/lib/python3.6/site-packages (from jupyter-server<2.0.0,>=0.3.0->voila) (4.7.0)\n",
      "Requirement already satisfied: terminado>=0.8.3 in /Users/simon/.pyenv/versions/3.6.8/lib/python3.6/site-packages (from jupyter-server<2.0.0,>=0.3.0->voila) (0.9.1)\n",
      "Requirement already satisfied: jinja2 in /Users/simon/.pyenv/versions/3.6.8/lib/python3.6/site-packages (from jupyter-server<2.0.0,>=0.3.0->voila) (2.11.2)\n",
      "Requirement already satisfied: Send2Trash in /Users/simon/.pyenv/versions/3.6.8/lib/python3.6/site-packages (from jupyter-server<2.0.0,>=0.3.0->voila) (1.5.0)\n",
      "Requirement already satisfied: tornado>=6.1.0 in /Users/simon/.pyenv/versions/3.6.8/lib/python3.6/site-packages (from jupyter-server<2.0.0,>=0.3.0->voila) (6.1)\n",
      "Requirement already satisfied: prometheus-client in /Users/simon/.pyenv/versions/3.6.8/lib/python3.6/site-packages (from jupyter-server<2.0.0,>=0.3.0->voila) (0.9.0)\n",
      "Requirement already satisfied: ipython-genutils in /Users/simon/.pyenv/versions/3.6.8/lib/python3.6/site-packages (from jupyter-server<2.0.0,>=0.3.0->voila) (0.2.0)\n",
      "Requirement already satisfied: anyio>=2.0.2 in /Users/simon/.pyenv/versions/3.6.8/lib/python3.6/site-packages (from jupyter-server<2.0.0,>=0.3.0->voila) (2.1.0)\n",
      "Requirement already satisfied: python-dateutil>=2.1 in /Users/simon/.pyenv/versions/3.6.8/lib/python3.6/site-packages (from jupyter-client<7,>=6.1.3->voila) (2.8.1)\n",
      "Requirement already satisfied: testpath in /Users/simon/.pyenv/versions/3.6.8/lib/python3.6/site-packages (from nbconvert<7,>=6.0.0->voila) (0.4.4)\n",
      "Requirement already satisfied: mistune<2,>=0.8.1 in /Users/simon/.pyenv/versions/3.6.8/lib/python3.6/site-packages (from nbconvert<7,>=6.0.0->voila) (0.8.4)\n",
      "Requirement already satisfied: pygments>=2.4.1 in /Users/simon/.pyenv/versions/3.6.8/lib/python3.6/site-packages (from nbconvert<7,>=6.0.0->voila) (2.7.3)\n",
      "Requirement already satisfied: entrypoints>=0.2.2 in /Users/simon/.pyenv/versions/3.6.8/lib/python3.6/site-packages (from nbconvert<7,>=6.0.0->voila) (0.3)\n",
      "Requirement already satisfied: defusedxml in /Users/simon/.pyenv/versions/3.6.8/lib/python3.6/site-packages (from nbconvert<7,>=6.0.0->voila) (0.6.0)\n",
      "Requirement already satisfied: pandocfilters>=1.4.1 in /Users/simon/.pyenv/versions/3.6.8/lib/python3.6/site-packages (from nbconvert<7,>=6.0.0->voila) (1.4.3)\n",
      "Requirement already satisfied: bleach in /Users/simon/.pyenv/versions/3.6.8/lib/python3.6/site-packages (from nbconvert<7,>=6.0.0->voila) (3.2.1)\n",
      "Requirement already satisfied: jupyterlab-pygments in /Users/simon/.pyenv/versions/3.6.8/lib/python3.6/site-packages (from nbconvert<7,>=6.0.0->voila) (0.1.2)\n",
      "Requirement already satisfied: six in /Users/simon/.pyenv/versions/3.6.8/lib/python3.6/site-packages (from traitlets>=4.2->nbclient<0.6,>=0.4.0->voila) (1.15.0)\n",
      "Requirement already satisfied: decorator in /Users/simon/.pyenv/versions/3.6.8/lib/python3.6/site-packages (from traitlets>=4.2->nbclient<0.6,>=0.4.0->voila) (4.4.2)\n",
      "Requirement already satisfied: jsonschema!=2.5.0,>=2.4 in /Users/simon/.pyenv/versions/3.6.8/lib/python3.6/site-packages (from nbformat>=5.0->nbclient<0.6,>=0.4.0->voila) (3.2.0)\n",
      "Requirement already satisfied: ptyprocess; os_name != \"nt\" in /Users/simon/.pyenv/versions/3.6.8/lib/python3.6/site-packages (from terminado>=0.8.3->jupyter-server<2.0.0,>=0.3.0->voila) (0.6.0)\n",
      "Requirement already satisfied: MarkupSafe>=0.23 in /Users/simon/.pyenv/versions/3.6.8/lib/python3.6/site-packages (from jinja2->jupyter-server<2.0.0,>=0.3.0->voila) (1.1.1)\n",
      "Requirement already satisfied: sniffio>=1.1 in /Users/simon/.pyenv/versions/3.6.8/lib/python3.6/site-packages (from anyio>=2.0.2->jupyter-server<2.0.0,>=0.3.0->voila) (1.2.0)\n",
      "Requirement already satisfied: typing-extensions; python_version < \"3.8\" in /Users/simon/.pyenv/versions/3.6.8/lib/python3.6/site-packages (from anyio>=2.0.2->jupyter-server<2.0.0,>=0.3.0->voila) (3.7.4.3)\n",
      "Requirement already satisfied: idna>=2.8 in /Users/simon/.pyenv/versions/3.6.8/lib/python3.6/site-packages (from anyio>=2.0.2->jupyter-server<2.0.0,>=0.3.0->voila) (2.10)\n",
      "Requirement already satisfied: dataclasses; python_version < \"3.7\" in /Users/simon/.pyenv/versions/3.6.8/lib/python3.6/site-packages (from anyio>=2.0.2->jupyter-server<2.0.0,>=0.3.0->voila) (0.8)\n",
      "Requirement already satisfied: webencodings in /Users/simon/.pyenv/versions/3.6.8/lib/python3.6/site-packages (from bleach->nbconvert<7,>=6.0.0->voila) (0.5.1)\n",
      "Requirement already satisfied: packaging in /Users/simon/.pyenv/versions/3.6.8/lib/python3.6/site-packages (from bleach->nbconvert<7,>=6.0.0->voila) (20.8)\n",
      "Requirement already satisfied: importlib-metadata; python_version < \"3.8\" in /Users/simon/.pyenv/versions/3.6.8/lib/python3.6/site-packages (from jsonschema!=2.5.0,>=2.4->nbformat>=5.0->nbclient<0.6,>=0.4.0->voila) (2.0.0)\n",
      "Requirement already satisfied: attrs>=17.4.0 in /Users/simon/.pyenv/versions/3.6.8/lib/python3.6/site-packages (from jsonschema!=2.5.0,>=2.4->nbformat>=5.0->nbclient<0.6,>=0.4.0->voila) (20.3.0)\n",
      "Requirement already satisfied: setuptools in /Users/simon/.pyenv/versions/3.6.8/lib/python3.6/site-packages (from jsonschema!=2.5.0,>=2.4->nbformat>=5.0->nbclient<0.6,>=0.4.0->voila) (40.6.2)\n",
      "Requirement already satisfied: pyrsistent>=0.14.0 in /Users/simon/.pyenv/versions/3.6.8/lib/python3.6/site-packages (from jsonschema!=2.5.0,>=2.4->nbformat>=5.0->nbclient<0.6,>=0.4.0->voila) (0.17.3)\n",
      "Requirement already satisfied: contextvars>=2.1; python_version < \"3.7\" in /Users/simon/.pyenv/versions/3.6.8/lib/python3.6/site-packages (from sniffio>=1.1->anyio>=2.0.2->jupyter-server<2.0.0,>=0.3.0->voila) (2.4)\n",
      "Requirement already satisfied: pyparsing>=2.0.2 in /Users/simon/.pyenv/versions/3.6.8/lib/python3.6/site-packages (from packaging->bleach->nbconvert<7,>=6.0.0->voila) (2.4.7)\n",
      "Requirement already satisfied: zipp>=0.5 in /Users/simon/.pyenv/versions/3.6.8/lib/python3.6/site-packages (from importlib-metadata; python_version < \"3.8\"->jsonschema!=2.5.0,>=2.4->nbformat>=5.0->nbclient<0.6,>=0.4.0->voila) (3.4.0)\n",
      "Requirement already satisfied: immutables>=0.9 in /Users/simon/.pyenv/versions/3.6.8/lib/python3.6/site-packages (from contextvars>=2.1; python_version < \"3.7\"->sniffio>=1.1->anyio>=2.0.2->jupyter-server<2.0.0,>=0.3.0->voila) (0.15)\n",
      "\u001b[33mWARNING: You are using pip version 20.2.4; however, version 21.0.1 is available.\n",
      "You should consider upgrading via the '/Users/simon/.pyenv/versions/3.6.8/bin/python3.6 -m pip install --upgrade pip' command.\u001b[0m\n"
     ]
    }
   ],
   "source": [
    "!pip install voila"
   ]
  },
  {
   "cell_type": "code",
   "execution_count": 17,
   "metadata": {},
   "outputs": [
    {
     "name": "stdout",
     "output_type": "stream",
     "text": [
      "Enabling: voila\n",
      "- Writing config: /Users/simon/.pyenv/versions/3.6.8/etc/jupyter\n",
      "    - Validating...\n",
      "      voila 0.2.6 \u001b[32mOK\u001b[0m\n"
     ]
    }
   ],
   "source": [
    "!jupyter serverextension enable voila --sys-prefix"
   ]
  },
  {
   "cell_type": "code",
   "execution_count": 20,
   "metadata": {},
   "outputs": [
    {
     "name": "stdout",
     "output_type": "stream",
     "text": [
      "[Voila] Using /var/folders/2r/8klq0qdj35345wgz7_q0zkg40000gn/T to store connection files\n",
      "[Voila] Storing connection files in /var/folders/2r/8klq0qdj35345wgz7_q0zkg40000gn/T/voila__bd9u7lh.\n",
      "[Voila] Serving static files from /Users/simon/.pyenv/versions/3.6.8/lib/python3.6/site-packages/voila/static.\n",
      "[Voila] Voilà is running at:\n",
      "http://localhost:8866/\n",
      "[Voila] Kernel started: 01e46028-7ad7-49a0-9f84-175c25275436\n",
      "^C\n",
      "[Voila] Stopping...\n"
     ]
    }
   ],
   "source": [
    "!voila Hotdog_Classifier.ipynb"
   ]
  },
  {
   "cell_type": "code",
   "execution_count": null,
   "metadata": {},
   "outputs": [],
   "source": []
  }
 ],
 "metadata": {
  "kernelspec": {
   "display_name": "Python 3",
   "language": "python",
   "name": "python3"
  },
  "language_info": {
   "codemirror_mode": {
    "name": "ipython",
    "version": 3
   },
   "file_extension": ".py",
   "mimetype": "text/x-python",
   "name": "python",
   "nbconvert_exporter": "python",
   "pygments_lexer": "ipython3",
   "version": "3.6.8"
  }
 },
 "nbformat": 4,
 "nbformat_minor": 4
}
